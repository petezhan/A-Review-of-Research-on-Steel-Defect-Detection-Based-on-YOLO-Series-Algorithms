{
 "cells": [
  {
   "cell_type": "code",
   "execution_count": null,
   "id": "23cd7279-15bb-4ad0-847d-a9ce63177283",
   "metadata": {},
   "outputs": [],
   "source": [
    "from ultralytics import YOLO\n",
    "import os\n",
    "import torch\n",
    "from thop import profile\n",
    "\n",
    "device = torch.device('cuda' if torch.cuda.is_available() else 'cpu')\n",
    "# model list\n",
    "models = ['yolov3u.pt', 'yolov3-tinyu.pt', \n",
    "          'yolov5nu.pt', 'yolov5su.pt','yolov5mu.pt', 'yolov5lu.pt', 'yolov5xu.pt', \n",
    "          'yolov8n.pt', 'yolov8s.pt', 'yolov8m.pt', 'yolov8l.pt', 'yolov8x.pt', \n",
    "          'yolov9t.pt', 'yolov9s.pt', 'yolov9m.pt', 'yolov9c.pt', 'yolov9e.pt', \n",
    "          'yolov10n.pt', 'yolov10s.pt', 'yolov10m.pt', 'yolov10b.pt', 'yolov10l.pt', 'yolov10x.pt',\n",
    "          'yolo11n.pt', 'yolo11s.pt', 'yolo11m.pt', 'yolo11l.pt', 'yolo11x.pt',\n",
    "          'yolov12n.pt', 'yolov12s.pt', 'yolov12m.pt', 'yolov12l.pt']\n",
    "\n",
    "# dataset path\n",
    "data_path =  '/root/GC-DET/data.yaml'\n",
    "\n",
    "# hyperparameter\n",
    "epochs = 400\n",
    "batch_size = 16\n",
    "img_size = 640\n",
    "\n",
    "\n",
    "# Traverse each model for training\n",
    "for model_path in models:\n",
    "    model = YOLO(model_path)\n",
    "    model.model = model.model.to(device)\n",
    "    # training model\n",
    "    results = model.train(\n",
    "        data = data_path,\n",
    "        epochs = epochs,\n",
    "        batch = batch_size,\n",
    "        name = model_path, \n",
    "        imgsz = img_size\n",
    "    )"
   ]
  },
  {
   "cell_type": "code",
   "execution_count": null,
   "id": "d09994a7-469f-433d-87dd-69c54b49350c",
   "metadata": {},
   "outputs": [],
   "source": [
    "from ultralytics import YOLO\n",
    "import os\n",
    "import torch\n",
    "from thop import profile\n",
    "\n",
    "device = torch.device('cuda' if torch.cuda.is_available() else 'cpu')\n",
    "# model list\n",
    "models = ['yolov12x.pt']\n",
    "\n",
    "# dataset path\n",
    "data_path =  '/root/GC-DET/data.yaml'\n",
    "\n",
    "# hyperparameter\n",
    "epochs = 400\n",
    "batch_size = 12\n",
    "img_size = 640\n",
    "\n",
    "\n",
    "# Traverse each model for training\n",
    "for model_path in models:\n",
    "    model = YOLO(model_path)\n",
    "    model.model = model.model.to(device)\n",
    "    # training model\n",
    "    results = model.train(\n",
    "        data = data_path,\n",
    "        epochs = epochs,\n",
    "        batch = batch_size,\n",
    "        name = model_path, \n",
    "        imgsz = img_size\n",
    "    )"
   ]
  },
  {
   "cell_type": "code",
   "execution_count": null,
   "id": "c7b774d9-ffca-46da-b35d-fafe56e959d2",
   "metadata": {},
   "outputs": [],
   "source": []
  }
 ],
 "metadata": {
  "kernelspec": {
   "display_name": "Python [conda env:base] *",
   "language": "python",
   "name": "conda-base-py"
  },
  "language_info": {
   "codemirror_mode": {
    "name": "ipython",
    "version": 3
   },
   "file_extension": ".py",
   "mimetype": "text/x-python",
   "name": "python",
   "nbconvert_exporter": "python",
   "pygments_lexer": "ipython3",
   "version": "3.12.7"
  }
 },
 "nbformat": 4,
 "nbformat_minor": 5
}
